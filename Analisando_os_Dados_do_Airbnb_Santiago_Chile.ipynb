{
  "nbformat": 4,
  "nbformat_minor": 0,
  "metadata": {
    "colab": {
      "provenance": [],
      "collapsed_sections": [
        "RYgvuebKNg8-"
      ],
      "include_colab_link": true
    },
    "kernelspec": {
      "name": "python3",
      "display_name": "Python 3"
    }
  },
  "cells": [
    {
      "cell_type": "markdown",
      "metadata": {
        "id": "view-in-github",
        "colab_type": "text"
      },
      "source": [
        "<a href=\"https://colab.research.google.com/github/michaeljmcardoso/Projeto_Analisando-os-Dados-do-Airbnb_Santiago_Chile/blob/main/Analisando_os_Dados_do_Airbnb_Santiago_Chile.ipynb\" target=\"_parent\"><img src=\"https://colab.research.google.com/assets/colab-badge.svg\" alt=\"Open In Colab\"/></a>"
      ]
    },
    {
      "cell_type": "markdown",
      "source": [
        "<img alt=\"Colaboratory logo\" width=\"15%\" src=\"https://raw.githubusercontent.com/carlosfab/escola-data-science/master/img/novo_logo_bg_claro.png\">\n",
        "\n",
        "#### **Data Science na Prática 3.0**\n",
        "\n",
        "Michael J M Cardoso\n",
        "\n",
        "*by [sigmoidal.ai](https://sigmoidal.ai)*\n",
        "\n",
        "---\n",
        "\n",
        "# Análise dos Dados do Airbnb - *SANTIAGO*\n",
        "\n",
        "\n",
        "<center><img alt=\"Analisando Airbnb\" width=\"65%\" src=\"https://img.freepik.com/vetores-premium/horizonte-da-cidade-de-santiago-do-chile-em-um-fundo-branco-ilustracao-em-vetor-plana-conceito-de-viagens-e-turismo-de-negocios-com-edificios-modernos-imagem-para-banner-ou-site_596401-175.jpg?w=2000\"></center>"
      ],
      "metadata": {
        "id": "sd3jkqUehAhA"
      }
    },
    {
      "cell_type": "markdown",
      "metadata": {
        "id": "kLI0gJtzDGuQ"
      },
      "source": [
        "O [Airbnb](https://www.airbnb.com.br/) já é considerado como a **maior empresa hoteleira da atualidade**. O curioso é que ele **não possui nenhum hotel**!\n",
        "\n",
        "Conectando pessoas que querem viajar (e se hospedar) com anfitriões que querem alugar seus imóveis de maneira prática, o Airbnb fornece uma plataforma inovadora para tornar essa hospedagem alternativa.\n",
        "\n",
        "No final de 2018, a Startup fundada há 10 anos, já havia **hospedado mais de 300 milhões** de pessoas ao redor de todo o mundo, desafiando as redes hoteleiras tradicionais.\n",
        "\n",
        "Uma das iniciativas do Airbnb é disponibilizar dados do site para algumas das principais cidades do mundo. Por meio do portal [Inside Airbnb](http://insideairbnb.com/get-the-data.html), é possível baixar uma grande quantidade de dados para desenvolver projetos e soluções de *Data Science*.\n",
        "\n",
        "---\n",
        "\n",
        "**Neste *notebook*, o objetivo é analisar os dados referentes à cidade Santiago, Región Metropolitana de Santiago, Chile e ver quais insights podem ser extraídos a partir dos dados brutos.** \n",
        "\n",
        "<center><img alt=\"Analisando Airbnb\" width=\"65%\" src=\"https://images.unsplash.com/photo-1557974040-3bec341da09b?ixlib=rb-1.2.1&ixid=MnwxMjA3fDB8MHxzZWFyY2h8Nnx8c2FudGlhZ28lMjBjaGlsZXxlbnwwfHwwfHw%3D&auto=format&fit=crop&w=700&q=60\" \"Regiao Metropolitana del Chile\"></center>\n",
        "\n",
        "Santiago, capital e maior cidade do Chile, fica em um vale circundado pelos Andes cobertos pela neve e a cadeia de montanhas chilena. A Plaza de Armas, o coração do centro velho colonial da cidade, abriga 2 pontos turísticos históricos neoclássicos: o Palacio de la Real Audiencia de 1808, sede do museu de história nacional, e a catedral metropolitana do século 18. La Chascona é a casa do poeta Pablo Neruda que foi transformada em museu (Google).\n",
        "Da mesma forma que outras capitais pelo mundo, Santiago é um destino com potencial turístico durante todo o ano. A capital chilena tem atraído cada vez mais turistas ao longo dos anos. Vinícolas, estações de ski, shoppings enormes, ótimos restaurantes, bons hotéis e uma cordilheira imponente ao redor da cidade, a [Cordilheira dos Andes](https://pt.wikipedia.org/wiki/Andes)."
      ]
    },
    {
      "cell_type": "markdown",
      "metadata": {
        "id": "0zxQHhIUDF_2"
      },
      "source": [
        "<center><img alt=\"Analisando Airbnb\" width=\"50%\" src=https://images.unsplash.com/photo-1486312338219-ce68d2c6f44d?ixlib=rb-1.2.1&ixid=MnwxMjA3fDB8MHxwaG90by1wYWdlfHx8fGVufDB8fHx8&auto=format&fit=crop&w=872&q=80></center>\n",
        "\n",
        "## Obtenção dos Dados\n",
        "Todos os dados utilizados neste projeto foram coletados a partir do site [Inside Airbnb](http://insideairbnb.com/get-the-data.html).\n",
        "\n",
        "Para esta análise exploratória inicial utilizaremos apenas o seguinte arquivo:\n",
        "\n",
        "* `listings.csv` *Summary information and metrics for listings in Santiago (good visualizations).*\n",
        "\n",
        "Este dataset poderá sofrer atualização. No momento, a ultima compilação foi realizada em 22 September de 2022 e pode ser acessada no link abaixo:\n",
        "\n",
        "* [dataset](http://data.insideairbnb.com/chile/rm/santiago/2022-09-22/visualisations/listings.csv)"
      ]
    },
    {
      "cell_type": "code",
      "metadata": {
        "id": "Vhp2wMPgJ6zX"
      },
      "source": [
        "# importar os pacotes necessarios\n",
        "import pandas as pd\n",
        "import matplotlib.pyplot as plt\n",
        "import seaborn as sns\n",
        "\n",
        "%matplotlib inline"
      ],
      "execution_count": null,
      "outputs": []
    },
    {
      "cell_type": "code",
      "metadata": {
        "id": "tUmoAT8DLQ5T"
      },
      "source": [
        "# importar o arquivo listings.csv para um DataFrame\n",
        "df = pd.read_csv(\"http://data.insideairbnb.com/chile/rm/santiago/2022-09-22/visualisations/listings.csv\")"
      ],
      "execution_count": null,
      "outputs": []
    },
    {
      "cell_type": "code",
      "source": [
        "#listar as colunas do DateFrame\n",
        "df.columns"
      ],
      "metadata": {
        "colab": {
          "base_uri": "https://localhost:8080/"
        },
        "id": "OEIx0_7gdWaX",
        "outputId": "14c8b017-4a91-4a6b-f87f-e82405f0c00e"
      },
      "execution_count": null,
      "outputs": [
        {
          "output_type": "execute_result",
          "data": {
            "text/plain": [
              "Index(['id', 'name', 'host_id', 'host_name', 'neighbourhood_group',\n",
              "       'neighbourhood', 'latitude', 'longitude', 'room_type', 'price',\n",
              "       'minimum_nights', 'number_of_reviews', 'last_review',\n",
              "       'reviews_per_month', 'calculated_host_listings_count',\n",
              "       'availability_365', 'number_of_reviews_ltm', 'license'],\n",
              "      dtype='object')"
            ]
          },
          "metadata": {},
          "execution_count": 21
        }
      ]
    },
    {
      "cell_type": "markdown",
      "metadata": {
        "id": "qb5By2nIMS6m"
      },
      "source": [
        "## Análise dos Dados\n",
        "\n",
        "Nesta etapa o objetivo é criar uma visão geral, com vistas a produzir um entendimento de **como os dados estão estruturados**. Mas antes vamos listar as variáveis que encontraremos neste *dataset*, por meio de um **dicionário de variáveis**. Vejamos."
      ]
    },
    {
      "cell_type": "markdown",
      "metadata": {
        "id": "RYgvuebKNg8-"
      },
      "source": [
        "####**Dicionário das variáveis**:\n",
        "\n",
        "* `id` - número de id gerado para identificar o imóvel\n",
        "* `name` - nome da propriedade anunciada \n",
        "* `host_id` - número de id do proprietário\n",
        "* `host_name` - Nome do anfitrião\n",
        "* `neighbourhood_group` - esta coluna não contém nenhum valor\n",
        "* `neighbourhood` - nome do bairro\n",
        "* `latitude` - coordenada de latitude da propriedade\n",
        "* `longitude` - coordenada de longitude da propriedade \n",
        "* `room_type` - informa o tipo de quarto que é oferecido\n",
        "* `price` - preço para alugar o imóvel\n",
        "* `minimum_nigths` - quantidade mínima de noites para reservar\n",
        "* `number_of_reviews` - número de avaliações que a propriedade possui\n",
        "* `last_review` - data da última avaliação\n",
        "* `reviews_per_month` - quantidade de avaliações por mês\n",
        "* `calculated_host_listings_count` - quantidade de imóveis do mesmo anfitrião\n",
        "* `availability_365` - número de dias de disponibilidade dentro de 365 dias\n",
        "* `license` - número de registro"
      ]
    },
    {
      "cell_type": "markdown",
      "source": [
        "#### Overview do dataset\n",
        "Antes de iniciar qualquer análise, faremos uma breve verificação do *dataset*, **analisando as 5 primeiras entradas**. Com o método `.head()` podemos facilmente ter um *overview* de nosso conjunto de dados."
      ],
      "metadata": {
        "id": "jNcDiB6MRx9w"
      }
    },
    {
      "cell_type": "code",
      "metadata": {
        "id": "2iS_dae7YQtO",
        "colab": {
          "base_uri": "https://localhost:8080/",
          "height": 426
        },
        "outputId": "073db0d5-f5f3-434d-ef9d-fcd44d876b01"
      },
      "source": [
        "# mostrar as 5 primeiras entradas\n",
        "df.head()\n"
      ],
      "execution_count": null,
      "outputs": [
        {
          "output_type": "execute_result",
          "data": {
            "text/plain": [
              "         id                                               name    host_id  \\\n",
              "0  33491101                           Casita  refugio interior  252327165   \n",
              "1  41380910  Casa Condominio Piscina Chamisero/8min de Vita...  110039387   \n",
              "2     49392                       Share my Flat in Providencia     224592   \n",
              "3     52811                 Suite Providencia 1 Santiago Chile     244792   \n",
              "4     53494                 depto centro ski el colorado chile     249097   \n",
              "\n",
              "   host_name  neighbourhood_group neighbourhood  latitude  longitude  \\\n",
              "0        Luz                  NaN     El Bosque -33.56362  -70.70975   \n",
              "1  Stephanie                  NaN    Huechuraba -33.32342  -70.63119   \n",
              "2      Maria                  NaN   Providencia -33.43266  -70.60072   \n",
              "3   Cristián                  NaN   Providencia -33.42959  -70.61880   \n",
              "4    Paulina                  NaN  Lo Barnechea -33.34344  -70.29432   \n",
              "\n",
              "         room_type   price  minimum_nights  number_of_reviews last_review  \\\n",
              "0     Private room   30000               1                  0         NaN   \n",
              "1  Entire home/apt   70000              30                  4  2021-03-14   \n",
              "2     Private room   49590               3                  0         NaN   \n",
              "3  Entire home/apt   50526               1                 46  2021-11-04   \n",
              "4  Entire home/apt  149999               2                 38  2021-05-22   \n",
              "\n",
              "   reviews_per_month  calculated_host_listings_count  availability_365  \\\n",
              "0                NaN                               2               140   \n",
              "1               0.13                               1                52   \n",
              "2                NaN                               1               178   \n",
              "3               0.32                               3                 0   \n",
              "4               0.50                               1               356   \n",
              "\n",
              "   number_of_reviews_ltm license  \n",
              "0                      0     NaN  \n",
              "1                      0     NaN  \n",
              "2                      0     NaN  \n",
              "3                      1     NaN  \n",
              "4                      0     NaN  "
            ],
            "text/html": [
              "\n",
              "  <div id=\"df-b09614a5-e132-48f1-ad62-2f7fbfe26e01\">\n",
              "    <div class=\"colab-df-container\">\n",
              "      <div>\n",
              "<style scoped>\n",
              "    .dataframe tbody tr th:only-of-type {\n",
              "        vertical-align: middle;\n",
              "    }\n",
              "\n",
              "    .dataframe tbody tr th {\n",
              "        vertical-align: top;\n",
              "    }\n",
              "\n",
              "    .dataframe thead th {\n",
              "        text-align: right;\n",
              "    }\n",
              "</style>\n",
              "<table border=\"1\" class=\"dataframe\">\n",
              "  <thead>\n",
              "    <tr style=\"text-align: right;\">\n",
              "      <th></th>\n",
              "      <th>id</th>\n",
              "      <th>name</th>\n",
              "      <th>host_id</th>\n",
              "      <th>host_name</th>\n",
              "      <th>neighbourhood_group</th>\n",
              "      <th>neighbourhood</th>\n",
              "      <th>latitude</th>\n",
              "      <th>longitude</th>\n",
              "      <th>room_type</th>\n",
              "      <th>price</th>\n",
              "      <th>minimum_nights</th>\n",
              "      <th>number_of_reviews</th>\n",
              "      <th>last_review</th>\n",
              "      <th>reviews_per_month</th>\n",
              "      <th>calculated_host_listings_count</th>\n",
              "      <th>availability_365</th>\n",
              "      <th>number_of_reviews_ltm</th>\n",
              "      <th>license</th>\n",
              "    </tr>\n",
              "  </thead>\n",
              "  <tbody>\n",
              "    <tr>\n",
              "      <th>0</th>\n",
              "      <td>33491101</td>\n",
              "      <td>Casita  refugio interior</td>\n",
              "      <td>252327165</td>\n",
              "      <td>Luz</td>\n",
              "      <td>NaN</td>\n",
              "      <td>El Bosque</td>\n",
              "      <td>-33.56362</td>\n",
              "      <td>-70.70975</td>\n",
              "      <td>Private room</td>\n",
              "      <td>30000</td>\n",
              "      <td>1</td>\n",
              "      <td>0</td>\n",
              "      <td>NaN</td>\n",
              "      <td>NaN</td>\n",
              "      <td>2</td>\n",
              "      <td>140</td>\n",
              "      <td>0</td>\n",
              "      <td>NaN</td>\n",
              "    </tr>\n",
              "    <tr>\n",
              "      <th>1</th>\n",
              "      <td>41380910</td>\n",
              "      <td>Casa Condominio Piscina Chamisero/8min de Vita...</td>\n",
              "      <td>110039387</td>\n",
              "      <td>Stephanie</td>\n",
              "      <td>NaN</td>\n",
              "      <td>Huechuraba</td>\n",
              "      <td>-33.32342</td>\n",
              "      <td>-70.63119</td>\n",
              "      <td>Entire home/apt</td>\n",
              "      <td>70000</td>\n",
              "      <td>30</td>\n",
              "      <td>4</td>\n",
              "      <td>2021-03-14</td>\n",
              "      <td>0.13</td>\n",
              "      <td>1</td>\n",
              "      <td>52</td>\n",
              "      <td>0</td>\n",
              "      <td>NaN</td>\n",
              "    </tr>\n",
              "    <tr>\n",
              "      <th>2</th>\n",
              "      <td>49392</td>\n",
              "      <td>Share my Flat in Providencia</td>\n",
              "      <td>224592</td>\n",
              "      <td>Maria</td>\n",
              "      <td>NaN</td>\n",
              "      <td>Providencia</td>\n",
              "      <td>-33.43266</td>\n",
              "      <td>-70.60072</td>\n",
              "      <td>Private room</td>\n",
              "      <td>49590</td>\n",
              "      <td>3</td>\n",
              "      <td>0</td>\n",
              "      <td>NaN</td>\n",
              "      <td>NaN</td>\n",
              "      <td>1</td>\n",
              "      <td>178</td>\n",
              "      <td>0</td>\n",
              "      <td>NaN</td>\n",
              "    </tr>\n",
              "    <tr>\n",
              "      <th>3</th>\n",
              "      <td>52811</td>\n",
              "      <td>Suite Providencia 1 Santiago Chile</td>\n",
              "      <td>244792</td>\n",
              "      <td>Cristián</td>\n",
              "      <td>NaN</td>\n",
              "      <td>Providencia</td>\n",
              "      <td>-33.42959</td>\n",
              "      <td>-70.61880</td>\n",
              "      <td>Entire home/apt</td>\n",
              "      <td>50526</td>\n",
              "      <td>1</td>\n",
              "      <td>46</td>\n",
              "      <td>2021-11-04</td>\n",
              "      <td>0.32</td>\n",
              "      <td>3</td>\n",
              "      <td>0</td>\n",
              "      <td>1</td>\n",
              "      <td>NaN</td>\n",
              "    </tr>\n",
              "    <tr>\n",
              "      <th>4</th>\n",
              "      <td>53494</td>\n",
              "      <td>depto centro ski el colorado chile</td>\n",
              "      <td>249097</td>\n",
              "      <td>Paulina</td>\n",
              "      <td>NaN</td>\n",
              "      <td>Lo Barnechea</td>\n",
              "      <td>-33.34344</td>\n",
              "      <td>-70.29432</td>\n",
              "      <td>Entire home/apt</td>\n",
              "      <td>149999</td>\n",
              "      <td>2</td>\n",
              "      <td>38</td>\n",
              "      <td>2021-05-22</td>\n",
              "      <td>0.50</td>\n",
              "      <td>1</td>\n",
              "      <td>356</td>\n",
              "      <td>0</td>\n",
              "      <td>NaN</td>\n",
              "    </tr>\n",
              "  </tbody>\n",
              "</table>\n",
              "</div>\n",
              "      <button class=\"colab-df-convert\" onclick=\"convertToInteractive('df-b09614a5-e132-48f1-ad62-2f7fbfe26e01')\"\n",
              "              title=\"Convert this dataframe to an interactive table.\"\n",
              "              style=\"display:none;\">\n",
              "        \n",
              "  <svg xmlns=\"http://www.w3.org/2000/svg\" height=\"24px\"viewBox=\"0 0 24 24\"\n",
              "       width=\"24px\">\n",
              "    <path d=\"M0 0h24v24H0V0z\" fill=\"none\"/>\n",
              "    <path d=\"M18.56 5.44l.94 2.06.94-2.06 2.06-.94-2.06-.94-.94-2.06-.94 2.06-2.06.94zm-11 1L8.5 8.5l.94-2.06 2.06-.94-2.06-.94L8.5 2.5l-.94 2.06-2.06.94zm10 10l.94 2.06.94-2.06 2.06-.94-2.06-.94-.94-2.06-.94 2.06-2.06.94z\"/><path d=\"M17.41 7.96l-1.37-1.37c-.4-.4-.92-.59-1.43-.59-.52 0-1.04.2-1.43.59L10.3 9.45l-7.72 7.72c-.78.78-.78 2.05 0 2.83L4 21.41c.39.39.9.59 1.41.59.51 0 1.02-.2 1.41-.59l7.78-7.78 2.81-2.81c.8-.78.8-2.07 0-2.86zM5.41 20L4 18.59l7.72-7.72 1.47 1.35L5.41 20z\"/>\n",
              "  </svg>\n",
              "      </button>\n",
              "      \n",
              "  <style>\n",
              "    .colab-df-container {\n",
              "      display:flex;\n",
              "      flex-wrap:wrap;\n",
              "      gap: 12px;\n",
              "    }\n",
              "\n",
              "    .colab-df-convert {\n",
              "      background-color: #E8F0FE;\n",
              "      border: none;\n",
              "      border-radius: 50%;\n",
              "      cursor: pointer;\n",
              "      display: none;\n",
              "      fill: #1967D2;\n",
              "      height: 32px;\n",
              "      padding: 0 0 0 0;\n",
              "      width: 32px;\n",
              "    }\n",
              "\n",
              "    .colab-df-convert:hover {\n",
              "      background-color: #E2EBFA;\n",
              "      box-shadow: 0px 1px 2px rgba(60, 64, 67, 0.3), 0px 1px 3px 1px rgba(60, 64, 67, 0.15);\n",
              "      fill: #174EA6;\n",
              "    }\n",
              "\n",
              "    [theme=dark] .colab-df-convert {\n",
              "      background-color: #3B4455;\n",
              "      fill: #D2E3FC;\n",
              "    }\n",
              "\n",
              "    [theme=dark] .colab-df-convert:hover {\n",
              "      background-color: #434B5C;\n",
              "      box-shadow: 0px 1px 3px 1px rgba(0, 0, 0, 0.15);\n",
              "      filter: drop-shadow(0px 1px 2px rgba(0, 0, 0, 0.3));\n",
              "      fill: #FFFFFF;\n",
              "    }\n",
              "  </style>\n",
              "\n",
              "      <script>\n",
              "        const buttonEl =\n",
              "          document.querySelector('#df-b09614a5-e132-48f1-ad62-2f7fbfe26e01 button.colab-df-convert');\n",
              "        buttonEl.style.display =\n",
              "          google.colab.kernel.accessAllowed ? 'block' : 'none';\n",
              "\n",
              "        async function convertToInteractive(key) {\n",
              "          const element = document.querySelector('#df-b09614a5-e132-48f1-ad62-2f7fbfe26e01');\n",
              "          const dataTable =\n",
              "            await google.colab.kernel.invokeFunction('convertToInteractive',\n",
              "                                                     [key], {});\n",
              "          if (!dataTable) return;\n",
              "\n",
              "          const docLinkHtml = 'Like what you see? Visit the ' +\n",
              "            '<a target=\"_blank\" href=https://colab.research.google.com/notebooks/data_table.ipynb>data table notebook</a>'\n",
              "            + ' to learn more about interactive tables.';\n",
              "          element.innerHTML = '';\n",
              "          dataTable['output_type'] = 'display_data';\n",
              "          await google.colab.output.renderOutput(dataTable, element);\n",
              "          const docLink = document.createElement('div');\n",
              "          docLink.innerHTML = docLinkHtml;\n",
              "          element.appendChild(docLink);\n",
              "        }\n",
              "      </script>\n",
              "    </div>\n",
              "  </div>\n",
              "  "
            ]
          },
          "metadata": {},
          "execution_count": 22
        }
      ]
    },
    {
      "cell_type": "markdown",
      "metadata": {
        "id": "6-B_qtEaYEd-"
      },
      "source": [
        "#### Número de entradas, os tipos e as quantidades das variáveis\n",
        "\n",
        "Observando as primeiras entradas já é possível ter noção dos atributos (variáveis) e entradas que nosso conjunto de dados possui. Mas ainda precisamos **verificar o número de entradas, quais os tipos e as quantidades das variáveis**, antes de partirmos para as análises.\n",
        "\n",
        "Vamos prosseguir e identificar a quantidade de entradas que nosso conjunto de dados possui e ver os tipos de cada coluna. Este `dataset` que baixamos é a versão \"resumida\" do Airbnb que se encontra na mesma página que baixamos o arquivo `listings.csv`. Lá também encontramos uma versão mais completa (listings.csv.gz) com 8574 entradas e 74 variáveis. **A versão resumida que utilizaremos possui 8574 entradas e 18 variáveis**.\n"
      ]
    },
    {
      "cell_type": "code",
      "metadata": {
        "id": "TFRK0tniLV-G",
        "colab": {
          "base_uri": "https://localhost:8080/",
          "height": 460
        },
        "outputId": "bcdec462-644e-4204-b605-eaaf3fa99e00"
      },
      "source": [
        "# identificar o volume de dados do DataFrame\n",
        "\n",
        "print(\"-*-\" * 14)\n",
        "print(\"Entradas: \\t {}\".format(df.shape[0]))\n",
        "print(\"Variáveis: \\t {}\\n\".format(df.shape[1]))\n",
        "print(\"-*-\" * 14)\n",
        "\n",
        "# mostrar o tipo das variáveis\n",
        "display(df.dtypes)"
      ],
      "execution_count": null,
      "outputs": [
        {
          "output_type": "stream",
          "name": "stdout",
          "text": [
            "-*--*--*--*--*--*--*--*--*--*--*--*--*--*-\n",
            "Entradas: \t 8574\n",
            "Variáveis: \t 18\n",
            "\n",
            "-*--*--*--*--*--*--*--*--*--*--*--*--*--*-\n"
          ]
        },
        {
          "output_type": "display_data",
          "data": {
            "text/plain": [
              "id                                  int64\n",
              "name                               object\n",
              "host_id                             int64\n",
              "host_name                          object\n",
              "neighbourhood_group               float64\n",
              "neighbourhood                      object\n",
              "latitude                          float64\n",
              "longitude                         float64\n",
              "room_type                          object\n",
              "price                               int64\n",
              "minimum_nights                      int64\n",
              "number_of_reviews                   int64\n",
              "last_review                        object\n",
              "reviews_per_month                 float64\n",
              "calculated_host_listings_count      int64\n",
              "availability_365                    int64\n",
              "number_of_reviews_ltm               int64\n",
              "license                            object\n",
              "dtype: object"
            ]
          },
          "metadata": {}
        }
      ]
    },
    {
      "cell_type": "markdown",
      "source": [
        "#### Alterando o data type da coluna price para float\n",
        "\n",
        "Vemos que a coluna price (preço) está definida como `int64`, ou seja números inteiros. contudo, tratando-se de dados referentes a um valor monetário (uma medida), é mais conveniente tratá-los como números decimais (`float`). Sendo assim, vamos mudar o tipo da coluna `price` para `float`."
      ],
      "metadata": {
        "id": "P6cNWje5g3Tk"
      }
    },
    {
      "cell_type": "code",
      "source": [
        "# alterar data type da coluna price para float\n",
        "df.price = df.price.astype(float)\n",
        "print(df[\"price\"].dtypes)"
      ],
      "metadata": {
        "colab": {
          "base_uri": "https://localhost:8080/"
        },
        "id": "ceoF62DygLby",
        "outputId": "82c953dd-5322-4719-9410-6e8225ebd9cd"
      },
      "execution_count": null,
      "outputs": [
        {
          "output_type": "stream",
          "name": "stdout",
          "text": [
            "float64\n"
          ]
        }
      ]
    },
    {
      "cell_type": "markdown",
      "source": [
        "#### Porcentagem de valores ausentes no **dataset**\n",
        "\n",
        "Para melhor visualizarmos os dados ausentes, iremos ordenar os valores percentuais em ordem decrescente, utilizando a função `df.sort_values (ascending=False)`."
      ],
      "metadata": {
        "id": "3QOMLH2cjFOv"
      }
    },
    {
      "cell_type": "code",
      "metadata": {
        "id": "plk2FjbCXOqP",
        "colab": {
          "base_uri": "https://localhost:8080/"
        },
        "outputId": "93fb71f7-6b48-4495-825f-71caf2daf823"
      },
      "source": [
        "# ordenar em sentido decrescente as variáveis por seus valores ausentes\n",
        "(df.isnull().sum() / df.shape[0]).sort_values(ascending=False)"
      ],
      "execution_count": null,
      "outputs": [
        {
          "output_type": "execute_result",
          "data": {
            "text/plain": [
              "neighbourhood_group               1.000000\n",
              "license                           0.979123\n",
              "reviews_per_month                 0.273035\n",
              "last_review                       0.273035\n",
              "name                              0.000350\n",
              "host_name                         0.000117\n",
              "number_of_reviews                 0.000000\n",
              "number_of_reviews_ltm             0.000000\n",
              "availability_365                  0.000000\n",
              "calculated_host_listings_count    0.000000\n",
              "id                                0.000000\n",
              "minimum_nights                    0.000000\n",
              "room_type                         0.000000\n",
              "longitude                         0.000000\n",
              "latitude                          0.000000\n",
              "neighbourhood                     0.000000\n",
              "host_id                           0.000000\n",
              "price                             0.000000\n",
              "dtype: float64"
            ]
          },
          "metadata": {},
          "execution_count": 25
        }
      ]
    },
    {
      "cell_type": "markdown",
      "metadata": {
        "id": "yz1urSUGW9iE"
      },
      "source": [
        "Agora que identificamos o volume do Dataframe, vamos verificar a porcentagem dos *missing values* (valores ausentes) no *dataset*. Antes de irmos para o  código é salutar entender alguns motivos típicos de falta de dados: o usuário pode ter esquecido de preencher o campo, ter digitado equivocadamente, ou não quis preencher um campo devido suas crenças, por exemplo, e até mesmo um erro de programção durante a transferência dos dados.\n",
        "\n",
        "É necessário, portanto, entendermos esses dados ausentes do ponto de vista estatístico, pois a qualidade de um dataset está diretamente relacionada à quantidade de valores ausentes. Assim, buscaremos entender logo de início se esses valores nulos são significativos quando comparados ao total de entradas e com nossos objetivos.\n",
        "\n",
        "Observações:\n",
        "\n",
        "* É possível ver que as colunas `neighbourhood_group` e `license` possuem praticamente 100% dos seus valores faltantes. \n",
        "* As variáveis `reviews_per_month` e `last_review` possuem valores nulos em 27% das linhas.\n",
        "* As variáveis `name` e `host_name` têm aproximadamente menos de 1% dos valores nulos.\n",
        "\n",
        "Assim, notamos que as colunas em destaque com valores faltantes serão irrelevantes para nossa análise inicial. Pois a coluna `neighbourhood_group`, referindo-se a um tipo de zoneamento de bairros ou distrito e estando totalmente vazia, não se mostrou relevante uma vez que, a coluna seguinte, `neighbourhood`(bairro), que está quase totalmente preenchida, poderia ser utilizada caso desejássemos trabalhar com esse atributo em nossas análises.\n",
        "\n",
        "Do mesmo modo, as colunas `reviews_per_month`, `last_review` (avaliações por mês e última avaliação) e `license`, também não se mostraram relevantes para nosso objetivo.\n",
        "\n",
        "Nas colunas `name` e `host_name`(nome e sobrenome) foram encontradas poucas entradas vazias. Neste caso, optaremos por excluir apenas tais entradas, não a coluna inteira."
      ]
    },
    {
      "cell_type": "markdown",
      "source": [
        "#####Exclusão de linhas com entradas faltantes e colunas com dados ausentes"
      ],
      "metadata": {
        "id": "_BHeSJyLoMSI"
      }
    },
    {
      "cell_type": "code",
      "source": [
        "# Excluindo linhas com entradas faltantes\n",
        "df.dropna(axis=0, inplace=True)"
      ],
      "metadata": {
        "id": "T7qcKhmWnxng"
      },
      "execution_count": null,
      "outputs": []
    },
    {
      "cell_type": "code",
      "source": [
        "# Excluindo colunas com dados ausentes\n",
        "df.drop(columns=['neighbourhood_group', 'license', 'reviews_per_month', 'last_review'], inplace=True) "
      ],
      "metadata": {
        "id": "1tvVFw9lnbZS"
      },
      "execution_count": null,
      "outputs": []
    },
    {
      "cell_type": "code",
      "source": [
        "# Confirmando a exclusão das entradas ausentes\n",
        "(df.isnull().sum()).sort_values(ascending=False)"
      ],
      "metadata": {
        "colab": {
          "base_uri": "https://localhost:8080/"
        },
        "id": "tWSm0hNXs7dO",
        "outputId": "203b101f-bb31-43e6-9d9b-5ecfa3f0cf6e"
      },
      "execution_count": null,
      "outputs": [
        {
          "output_type": "execute_result",
          "data": {
            "text/plain": [
              "id                                0.0\n",
              "name                              0.0\n",
              "host_id                           0.0\n",
              "host_name                         0.0\n",
              "neighbourhood                     0.0\n",
              "latitude                          0.0\n",
              "longitude                         0.0\n",
              "room_type                         0.0\n",
              "price                             0.0\n",
              "minimum_nights                    0.0\n",
              "number_of_reviews                 0.0\n",
              "calculated_host_listings_count    0.0\n",
              "availability_365                  0.0\n",
              "number_of_reviews_ltm             0.0\n",
              "dtype: float64"
            ]
          },
          "metadata": {},
          "execution_count": 10
        }
      ]
    },
    {
      "cell_type": "markdown",
      "metadata": {
        "id": "iHXvvHIxaoNc"
      },
      "source": [
        "Agora, após o tratamento das entradas faltantes, é interessante questionarmos qual o tipo de distribuição das variáveis. Para identificar e melhor visualizar a distribuição das variáveis, iremos plotar um histograma."
      ]
    },
    {
      "cell_type": "code",
      "source": [
        "df.head()"
      ],
      "metadata": {
        "colab": {
          "base_uri": "https://localhost:8080/",
          "height": 426
        },
        "id": "ikIf2VWQtGxU",
        "outputId": "155e2a2b-7a95-49a7-d95b-0ab126c798fb"
      },
      "execution_count": null,
      "outputs": [
        {
          "output_type": "execute_result",
          "data": {
            "text/plain": [
              "         id                                               name    host_id  \\\n",
              "0  33491101                           Casita  refugio interior  252327165   \n",
              "1  41380910  Casa Condominio Piscina Chamisero/8min de Vita...  110039387   \n",
              "2     49392                       Share my Flat in Providencia     224592   \n",
              "3     52811                 Suite Providencia 1 Santiago Chile     244792   \n",
              "4     53494                 depto centro ski el colorado chile     249097   \n",
              "\n",
              "   host_name neighbourhood  latitude  longitude        room_type     price  \\\n",
              "0        Luz     El Bosque -33.56362  -70.70975     Private room   30000.0   \n",
              "1  Stephanie    Huechuraba -33.32342  -70.63119  Entire home/apt   70000.0   \n",
              "2      Maria   Providencia -33.43266  -70.60072     Private room   49590.0   \n",
              "3   Cristián   Providencia -33.42959  -70.61880  Entire home/apt   50526.0   \n",
              "4    Paulina  Lo Barnechea -33.34344  -70.29432  Entire home/apt  149999.0   \n",
              "\n",
              "   minimum_nights  number_of_reviews  calculated_host_listings_count  \\\n",
              "0               1                  0                               2   \n",
              "1              30                  4                               1   \n",
              "2               3                  0                               1   \n",
              "3               1                 46                               3   \n",
              "4               2                 38                               1   \n",
              "\n",
              "   availability_365  number_of_reviews_ltm  \n",
              "0               140                      0  \n",
              "1                52                      0  \n",
              "2               178                      0  \n",
              "3                 0                      1  \n",
              "4               356                      0  "
            ],
            "text/html": [
              "\n",
              "  <div id=\"df-edfb0c5e-0acb-42de-af6d-5def0c1e61a3\">\n",
              "    <div class=\"colab-df-container\">\n",
              "      <div>\n",
              "<style scoped>\n",
              "    .dataframe tbody tr th:only-of-type {\n",
              "        vertical-align: middle;\n",
              "    }\n",
              "\n",
              "    .dataframe tbody tr th {\n",
              "        vertical-align: top;\n",
              "    }\n",
              "\n",
              "    .dataframe thead th {\n",
              "        text-align: right;\n",
              "    }\n",
              "</style>\n",
              "<table border=\"1\" class=\"dataframe\">\n",
              "  <thead>\n",
              "    <tr style=\"text-align: right;\">\n",
              "      <th></th>\n",
              "      <th>id</th>\n",
              "      <th>name</th>\n",
              "      <th>host_id</th>\n",
              "      <th>host_name</th>\n",
              "      <th>neighbourhood</th>\n",
              "      <th>latitude</th>\n",
              "      <th>longitude</th>\n",
              "      <th>room_type</th>\n",
              "      <th>price</th>\n",
              "      <th>minimum_nights</th>\n",
              "      <th>number_of_reviews</th>\n",
              "      <th>calculated_host_listings_count</th>\n",
              "      <th>availability_365</th>\n",
              "      <th>number_of_reviews_ltm</th>\n",
              "    </tr>\n",
              "  </thead>\n",
              "  <tbody>\n",
              "    <tr>\n",
              "      <th>0</th>\n",
              "      <td>33491101</td>\n",
              "      <td>Casita  refugio interior</td>\n",
              "      <td>252327165</td>\n",
              "      <td>Luz</td>\n",
              "      <td>El Bosque</td>\n",
              "      <td>-33.56362</td>\n",
              "      <td>-70.70975</td>\n",
              "      <td>Private room</td>\n",
              "      <td>30000.0</td>\n",
              "      <td>1</td>\n",
              "      <td>0</td>\n",
              "      <td>2</td>\n",
              "      <td>140</td>\n",
              "      <td>0</td>\n",
              "    </tr>\n",
              "    <tr>\n",
              "      <th>1</th>\n",
              "      <td>41380910</td>\n",
              "      <td>Casa Condominio Piscina Chamisero/8min de Vita...</td>\n",
              "      <td>110039387</td>\n",
              "      <td>Stephanie</td>\n",
              "      <td>Huechuraba</td>\n",
              "      <td>-33.32342</td>\n",
              "      <td>-70.63119</td>\n",
              "      <td>Entire home/apt</td>\n",
              "      <td>70000.0</td>\n",
              "      <td>30</td>\n",
              "      <td>4</td>\n",
              "      <td>1</td>\n",
              "      <td>52</td>\n",
              "      <td>0</td>\n",
              "    </tr>\n",
              "    <tr>\n",
              "      <th>2</th>\n",
              "      <td>49392</td>\n",
              "      <td>Share my Flat in Providencia</td>\n",
              "      <td>224592</td>\n",
              "      <td>Maria</td>\n",
              "      <td>Providencia</td>\n",
              "      <td>-33.43266</td>\n",
              "      <td>-70.60072</td>\n",
              "      <td>Private room</td>\n",
              "      <td>49590.0</td>\n",
              "      <td>3</td>\n",
              "      <td>0</td>\n",
              "      <td>1</td>\n",
              "      <td>178</td>\n",
              "      <td>0</td>\n",
              "    </tr>\n",
              "    <tr>\n",
              "      <th>3</th>\n",
              "      <td>52811</td>\n",
              "      <td>Suite Providencia 1 Santiago Chile</td>\n",
              "      <td>244792</td>\n",
              "      <td>Cristián</td>\n",
              "      <td>Providencia</td>\n",
              "      <td>-33.42959</td>\n",
              "      <td>-70.61880</td>\n",
              "      <td>Entire home/apt</td>\n",
              "      <td>50526.0</td>\n",
              "      <td>1</td>\n",
              "      <td>46</td>\n",
              "      <td>3</td>\n",
              "      <td>0</td>\n",
              "      <td>1</td>\n",
              "    </tr>\n",
              "    <tr>\n",
              "      <th>4</th>\n",
              "      <td>53494</td>\n",
              "      <td>depto centro ski el colorado chile</td>\n",
              "      <td>249097</td>\n",
              "      <td>Paulina</td>\n",
              "      <td>Lo Barnechea</td>\n",
              "      <td>-33.34344</td>\n",
              "      <td>-70.29432</td>\n",
              "      <td>Entire home/apt</td>\n",
              "      <td>149999.0</td>\n",
              "      <td>2</td>\n",
              "      <td>38</td>\n",
              "      <td>1</td>\n",
              "      <td>356</td>\n",
              "      <td>0</td>\n",
              "    </tr>\n",
              "  </tbody>\n",
              "</table>\n",
              "</div>\n",
              "      <button class=\"colab-df-convert\" onclick=\"convertToInteractive('df-edfb0c5e-0acb-42de-af6d-5def0c1e61a3')\"\n",
              "              title=\"Convert this dataframe to an interactive table.\"\n",
              "              style=\"display:none;\">\n",
              "        \n",
              "  <svg xmlns=\"http://www.w3.org/2000/svg\" height=\"24px\"viewBox=\"0 0 24 24\"\n",
              "       width=\"24px\">\n",
              "    <path d=\"M0 0h24v24H0V0z\" fill=\"none\"/>\n",
              "    <path d=\"M18.56 5.44l.94 2.06.94-2.06 2.06-.94-2.06-.94-.94-2.06-.94 2.06-2.06.94zm-11 1L8.5 8.5l.94-2.06 2.06-.94-2.06-.94L8.5 2.5l-.94 2.06-2.06.94zm10 10l.94 2.06.94-2.06 2.06-.94-2.06-.94-.94-2.06-.94 2.06-2.06.94z\"/><path d=\"M17.41 7.96l-1.37-1.37c-.4-.4-.92-.59-1.43-.59-.52 0-1.04.2-1.43.59L10.3 9.45l-7.72 7.72c-.78.78-.78 2.05 0 2.83L4 21.41c.39.39.9.59 1.41.59.51 0 1.02-.2 1.41-.59l7.78-7.78 2.81-2.81c.8-.78.8-2.07 0-2.86zM5.41 20L4 18.59l7.72-7.72 1.47 1.35L5.41 20z\"/>\n",
              "  </svg>\n",
              "      </button>\n",
              "      \n",
              "  <style>\n",
              "    .colab-df-container {\n",
              "      display:flex;\n",
              "      flex-wrap:wrap;\n",
              "      gap: 12px;\n",
              "    }\n",
              "\n",
              "    .colab-df-convert {\n",
              "      background-color: #E8F0FE;\n",
              "      border: none;\n",
              "      border-radius: 50%;\n",
              "      cursor: pointer;\n",
              "      display: none;\n",
              "      fill: #1967D2;\n",
              "      height: 32px;\n",
              "      padding: 0 0 0 0;\n",
              "      width: 32px;\n",
              "    }\n",
              "\n",
              "    .colab-df-convert:hover {\n",
              "      background-color: #E2EBFA;\n",
              "      box-shadow: 0px 1px 2px rgba(60, 64, 67, 0.3), 0px 1px 3px 1px rgba(60, 64, 67, 0.15);\n",
              "      fill: #174EA6;\n",
              "    }\n",
              "\n",
              "    [theme=dark] .colab-df-convert {\n",
              "      background-color: #3B4455;\n",
              "      fill: #D2E3FC;\n",
              "    }\n",
              "\n",
              "    [theme=dark] .colab-df-convert:hover {\n",
              "      background-color: #434B5C;\n",
              "      box-shadow: 0px 1px 3px 1px rgba(0, 0, 0, 0.15);\n",
              "      filter: drop-shadow(0px 1px 2px rgba(0, 0, 0, 0.3));\n",
              "      fill: #FFFFFF;\n",
              "    }\n",
              "  </style>\n",
              "\n",
              "      <script>\n",
              "        const buttonEl =\n",
              "          document.querySelector('#df-edfb0c5e-0acb-42de-af6d-5def0c1e61a3 button.colab-df-convert');\n",
              "        buttonEl.style.display =\n",
              "          google.colab.kernel.accessAllowed ? 'block' : 'none';\n",
              "\n",
              "        async function convertToInteractive(key) {\n",
              "          const element = document.querySelector('#df-edfb0c5e-0acb-42de-af6d-5def0c1e61a3');\n",
              "          const dataTable =\n",
              "            await google.colab.kernel.invokeFunction('convertToInteractive',\n",
              "                                                     [key], {});\n",
              "          if (!dataTable) return;\n",
              "\n",
              "          const docLinkHtml = 'Like what you see? Visit the ' +\n",
              "            '<a target=\"_blank\" href=https://colab.research.google.com/notebooks/data_table.ipynb>data table notebook</a>'\n",
              "            + ' to learn more about interactive tables.';\n",
              "          element.innerHTML = '';\n",
              "          dataTable['output_type'] = 'display_data';\n",
              "          await google.colab.output.renderOutput(dataTable, element);\n",
              "          const docLink = document.createElement('div');\n",
              "          docLink.innerHTML = docLinkHtml;\n",
              "          element.appendChild(docLink);\n",
              "        }\n",
              "      </script>\n",
              "    </div>\n",
              "  </div>\n",
              "  "
            ]
          },
          "metadata": {},
          "execution_count": 27
        }
      ]
    },
    {
      "cell_type": "code",
      "metadata": {
        "id": "q2wWSfeRbmBo",
        "colab": {
          "base_uri": "https://localhost:8080/",
          "height": 607
        },
        "outputId": "b063192d-4217-4cb7-db4b-7fa0f5291441"
      },
      "source": [
        "# plotar o histograma das variáveis numéricas\n",
        "df.hist(bins=15 , figsize=(15, 10));"
      ],
      "execution_count": null,
      "outputs": [
        {
          "output_type": "display_data",
          "data": {
            "text/plain": [
              "<Figure size 1080x720 with 12 Axes>"
            ],
            "image/png": "[encoded data removed]"
          },
          "metadata": {
            "needs_background": "light"
          }
        }
      ]
    },
    {
      "cell_type": "markdown",
      "source": [
        "Pela distribuição do histograma, é possível verificar indícios da presença de *outliers*. Olhe por exemplo as variáveis `price`, `minimum_nights` e `calculated_host_listings_count`.\n",
        "\n",
        "Os valores não seguem uma distruição, e distorcem toda a representação gráfica. Para confirmar, há duas maneiras rápidas que auxiliam a detecção de *outliers*. São elas:\n",
        "\n",
        "* Resumo estatístico por meio do método `describe()`\n",
        "* Plotar `boxplots` para a variável."
      ],
      "metadata": {
        "id": "_tOnM5wzdmeP"
      }
    },
    {
      "cell_type": "code",
      "source": [
        "# ver o resumo estatístico das variáveis númericas pricr e minimun_nigths\n",
        "df[['price', 'minimum_nights']].describe()"
      ],
      "metadata": {
        "colab": {
          "base_uri": "https://localhost:8080/",
          "height": 281
        },
        "id": "IERo6sQg85iC",
        "outputId": "e2a63e16-0864-4b7f-9efe-0c47957d45fe"
      },
      "execution_count": null,
      "outputs": [
        {
          "output_type": "execute_result",
          "data": {
            "text/plain": [
              "              price  minimum_nights\n",
              "count  8.574000e+03     8574.000000\n",
              "mean   9.131425e+04        7.516562\n",
              "std    8.236683e+05       30.444736\n",
              "min    6.830000e+03        1.000000\n",
              "25%    2.800000e+04        1.000000\n",
              "50%    4.200000e+04        2.000000\n",
              "75%    6.540875e+04        3.000000\n",
              "max    5.613975e+07     1000.000000"
            ],
            "text/html": [
              "\n",
              "  <div id=\"df-e3f355ab-da92-49c9-a3f8-8e4e4f03020d\">\n",
              "    <div class=\"colab-df-container\">\n",
              "      <div>\n",
              "<style scoped>\n",
              "    .dataframe tbody tr th:only-of-type {\n",
              "        vertical-align: middle;\n",
              "    }\n",
              "\n",
              "    .dataframe tbody tr th {\n",
              "        vertical-align: top;\n",
              "    }\n",
              "\n",
              "    .dataframe thead th {\n",
              "        text-align: right;\n",
              "    }\n",
              "</style>\n",
              "<table border=\"1\" class=\"dataframe\">\n",
              "  <thead>\n",
              "    <tr style=\"text-align: right;\">\n",
              "      <th></th>\n",
              "      <th>price</th>\n",
              "      <th>minimum_nights</th>\n",
              "    </tr>\n",
              "  </thead>\n",
              "  <tbody>\n",
              "    <tr>\n",
              "      <th>count</th>\n",
              "      <td>8.574000e+03</td>\n",
              "      <td>8574.000000</td>\n",
              "    </tr>\n",
              "    <tr>\n",
              "      <th>mean</th>\n",
              "      <td>9.131425e+04</td>\n",
              "      <td>7.516562</td>\n",
              "    </tr>\n",
              "    <tr>\n",
              "      <th>std</th>\n",
              "      <td>8.236683e+05</td>\n",
              "      <td>30.444736</td>\n",
              "    </tr>\n",
              "    <tr>\n",
              "      <th>min</th>\n",
              "      <td>6.830000e+03</td>\n",
              "      <td>1.000000</td>\n",
              "    </tr>\n",
              "    <tr>\n",
              "      <th>25%</th>\n",
              "      <td>2.800000e+04</td>\n",
              "      <td>1.000000</td>\n",
              "    </tr>\n",
              "    <tr>\n",
              "      <th>50%</th>\n",
              "      <td>4.200000e+04</td>\n",
              "      <td>2.000000</td>\n",
              "    </tr>\n",
              "    <tr>\n",
              "      <th>75%</th>\n",
              "      <td>6.540875e+04</td>\n",
              "      <td>3.000000</td>\n",
              "    </tr>\n",
              "    <tr>\n",
              "      <th>max</th>\n",
              "      <td>5.613975e+07</td>\n",
              "      <td>1000.000000</td>\n",
              "    </tr>\n",
              "  </tbody>\n",
              "</table>\n",
              "</div>\n",
              "      <button class=\"colab-df-convert\" onclick=\"convertToInteractive('df-e3f355ab-da92-49c9-a3f8-8e4e4f03020d')\"\n",
              "              title=\"Convert this dataframe to an interactive table.\"\n",
              "              style=\"display:none;\">\n",
              "        \n",
              "  <svg xmlns=\"http://www.w3.org/2000/svg\" height=\"24px\"viewBox=\"0 0 24 24\"\n",
              "       width=\"24px\">\n",
              "    <path d=\"M0 0h24v24H0V0z\" fill=\"none\"/>\n",
              "    <path d=\"M18.56 5.44l.94 2.06.94-2.06 2.06-.94-2.06-.94-.94-2.06-.94 2.06-2.06.94zm-11 1L8.5 8.5l.94-2.06 2.06-.94-2.06-.94L8.5 2.5l-.94 2.06-2.06.94zm10 10l.94 2.06.94-2.06 2.06-.94-2.06-.94-.94-2.06-.94 2.06-2.06.94z\"/><path d=\"M17.41 7.96l-1.37-1.37c-.4-.4-.92-.59-1.43-.59-.52 0-1.04.2-1.43.59L10.3 9.45l-7.72 7.72c-.78.78-.78 2.05 0 2.83L4 21.41c.39.39.9.59 1.41.59.51 0 1.02-.2 1.41-.59l7.78-7.78 2.81-2.81c.8-.78.8-2.07 0-2.86zM5.41 20L4 18.59l7.72-7.72 1.47 1.35L5.41 20z\"/>\n",
              "  </svg>\n",
              "      </button>\n",
              "      \n",
              "  <style>\n",
              "    .colab-df-container {\n",
              "      display:flex;\n",
              "      flex-wrap:wrap;\n",
              "      gap: 12px;\n",
              "    }\n",
              "\n",
              "    .colab-df-convert {\n",
              "      background-color: #E8F0FE;\n",
              "      border: none;\n",
              "      border-radius: 50%;\n",
              "      cursor: pointer;\n",
              "      display: none;\n",
              "      fill: #1967D2;\n",
              "      height: 32px;\n",
              "      padding: 0 0 0 0;\n",
              "      width: 32px;\n",
              "    }\n",
              "\n",
              "    .colab-df-convert:hover {\n",
              "      background-color: #E2EBFA;\n",
              "      box-shadow: 0px 1px 2px rgba(60, 64, 67, 0.3), 0px 1px 3px 1px rgba(60, 64, 67, 0.15);\n",
              "      fill: #174EA6;\n",
              "    }\n",
              "\n",
              "    [theme=dark] .colab-df-convert {\n",
              "      background-color: #3B4455;\n",
              "      fill: #D2E3FC;\n",
              "    }\n",
              "\n",
              "    [theme=dark] .colab-df-convert:hover {\n",
              "      background-color: #434B5C;\n",
              "      box-shadow: 0px 1px 3px 1px rgba(0, 0, 0, 0.15);\n",
              "      filter: drop-shadow(0px 1px 2px rgba(0, 0, 0, 0.3));\n",
              "      fill: #FFFFFF;\n",
              "    }\n",
              "  </style>\n",
              "\n",
              "      <script>\n",
              "        const buttonEl =\n",
              "          document.querySelector('#df-e3f355ab-da92-49c9-a3f8-8e4e4f03020d button.colab-df-convert');\n",
              "        buttonEl.style.display =\n",
              "          google.colab.kernel.accessAllowed ? 'block' : 'none';\n",
              "\n",
              "        async function convertToInteractive(key) {\n",
              "          const element = document.querySelector('#df-e3f355ab-da92-49c9-a3f8-8e4e4f03020d');\n",
              "          const dataTable =\n",
              "            await google.colab.kernel.invokeFunction('convertToInteractive',\n",
              "                                                     [key], {});\n",
              "          if (!dataTable) return;\n",
              "\n",
              "          const docLinkHtml = 'Like what you see? Visit the ' +\n",
              "            '<a target=\"_blank\" href=https://colab.research.google.com/notebooks/data_table.ipynb>data table notebook</a>'\n",
              "            + ' to learn more about interactive tables.';\n",
              "          element.innerHTML = '';\n",
              "          dataTable['output_type'] = 'display_data';\n",
              "          await google.colab.output.renderOutput(dataTable, element);\n",
              "          const docLink = document.createElement('div');\n",
              "          docLink.innerHTML = docLinkHtml;\n",
              "          element.appendChild(docLink);\n",
              "        }\n",
              "      </script>\n",
              "    </div>\n",
              "  </div>\n",
              "  "
            ]
          },
          "metadata": {},
          "execution_count": 37
        }
      ]
    },
    {
      "cell_type": "markdown",
      "source": [
        "### **Agora, partindo de nosso conjunto de dados, que tal fazermos algumas análises?**"
      ],
      "metadata": {
        "id": "gWBoBLmUdmhY"
      }
    },
    {
      "cell_type": "markdown",
      "metadata": {
        "id": "7x4aw1j5wNmn"
      },
      "source": [
        "####**Qual a média dos preços de aluguel?**\n",
        "\n",
        "Se você já viajou ou está pensando em viajar para outra cidade, certamente  vai querer saber qual o valor da hospedagem nesse local, para saber quanto você vai gastar. Em nosso caso hipotétio, tendo em mãos os dados do Airbnb, queremos descobrir qual o preço médio dos aluguéis na cidade de Santiago do Chile.\n",
        "\n",
        "Para sabermos a média dos preços do alguel devemos acessar a coluna `price` de nosso *dataset*, obter todos os valores e deles extrair uma média.\n",
        "\n",
        "Assim descobrimos que o preço médio do aluguel na cidade de Santiago del Chile foi de 91314.25. Contudo, a variável price teve 75% do valor abaixo de 6540.87."
      ]
    },
    {
      "cell_type": "code",
      "source": [
        "# imprimir a média dos preços do aluguel\n",
        "print(\"{:.0f}\".format(df.price.mean()))"
      ],
      "metadata": {
        "colab": {
          "base_uri": "https://localhost:8080/"
        },
        "id": "xOiGNTa_MYmQ",
        "outputId": "c80d53ff-ef71-47e9-b562-bc1ebf3fabb7"
      },
      "execution_count": null,
      "outputs": [
        {
          "output_type": "stream",
          "name": "stdout",
          "text": [
            "91314\n"
          ]
        }
      ]
    },
    {
      "cell_type": "markdown",
      "source": [
        "Olhando o resumo estatístico acima, podemos confirmar algumas hipóteses como:\n",
        "\n",
        "* A variável `price` possui 75% do valor abaixo de 6540.87 porém seu valor máximo é 561397.49.\n",
        "* A quantidade mínima de noites (`minimum_nights`) está acima de 365 dias no ano.\n"
      ],
      "metadata": {
        "id": "5YTO2Wg3LBW2"
      }
    },
    {
      "cell_type": "markdown",
      "source": [
        "####Boxplot para minimum_nigths"
      ],
      "metadata": {
        "id": "n_nS3TRPNVqg"
      }
    },
    {
      "cell_type": "code",
      "source": [
        "# minimum_nights\n",
        "df.minimum_nights.plot(kind='box', vert=False, figsize=(15, 3))\n",
        "plt.show()\n",
        "\n",
        "# ver quantidade de valores acima de 30 dias para minimum_nights\n",
        "print(\"minimum_nights: valores acima de 30:\")\n",
        "print(\"{} entradas\".format(len(df[df.minimum_nights > 30])))\n",
        "print(\"{:.4f}%\".format((len(df[df.minimum_nights > 30]) / df.shape[0])*100))"
      ],
      "metadata": {
        "colab": {
          "base_uri": "https://localhost:8080/",
          "height": 266
        },
        "id": "qGtOvmfINVEB",
        "outputId": "1b2438af-e040-4d16-a7cb-f0e8954d702f"
      },
      "execution_count": null,
      "outputs": [
        {
          "output_type": "display_data",
          "data": {
            "text/plain": [
              "<Figure size 1080x216 with 1 Axes>"
            ],
            "image/png": "[encoded data removed]"
          },
          "metadata": {
            "needs_background": "light"
          }
        },
        {
          "output_type": "stream",
          "name": "stdout",
          "text": [
            "minimum_nights: valores acima de 30:\n",
            "230 entradas\n",
            "2.6825%\n"
          ]
        }
      ]
    },
    {
      "cell_type": "markdown",
      "source": [
        "####Boxplot para price"
      ],
      "metadata": {
        "id": "sVcWvzw4OR-n"
      }
    },
    {
      "cell_type": "code",
      "source": [
        "# price\n",
        "df.price.plot(kind='box', vert=False, figsize=(15, 3),)\n",
        "plt.show()\n",
        "\n",
        "# ver quantidade de valores acima de 28000 para price\n",
        "print(\"\\nprice: valores acima de 28000\")\n",
        "print(\"{} entradas\".format(len(df[df.price > 28000])))\n",
        "print(\"{:.4f}%\".format((len(df[df.price > 28000]) / df.shape[0])*100))\n",
        "\n",
        "# df.price.plot(kind='box', vert=False, xlim=(0,1300), figsize=(15,3));"
      ],
      "metadata": {
        "colab": {
          "base_uri": "https://localhost:8080/",
          "height": 298
        },
        "id": "q8krKAatOaIM",
        "outputId": "8334da63-39c3-4bbc-b37b-49499cc19ffd"
      },
      "execution_count": null,
      "outputs": [
        {
          "output_type": "display_data",
          "data": {
            "text/plain": [
              "<Figure size 1080x216 with 1 Axes>"
            ],
            "image/png": "[encoded data removed]"
          },
          "metadata": {
            "needs_background": "light"
          }
        },
        {
          "output_type": "stream",
          "name": "stdout",
          "text": [
            "\n",
            "price: valores acima de 28000\n",
            "6412 entradas\n",
            "74.7842%\n"
          ]
        }
      ]
    },
    {
      "cell_type": "markdown",
      "source": [
        "#### Histogramas sem *outliers*\n",
        "\n",
        "Já que identificamos *outliers* nas variáveis `price` e `minimum_nights`, vamos agora limpar o *DataFrame* delas e plotar novamente o histograma."
      ],
      "metadata": {
        "id": "TO7MAL9hQmBj"
      }
    },
    {
      "cell_type": "code",
      "source": [
        "# remover os *outliers* em um novo DataFrame\n",
        "df_clean = df.copy()\n",
        "df_clean.drop(df_clean[df_clean.price > 28000].index, axis=0, inplace=True)\n",
        "df_clean.drop(df_clean[df_clean.minimum_nights > 30].index, axis=0, inplace=True)\n",
        "\n",
        "# plotar o histograma para as variáveis numéricas\n",
        "df_clean.hist(bins=15, figsize=(15,10));"
      ],
      "metadata": {
        "colab": {
          "base_uri": "https://localhost:8080/",
          "height": 607
        },
        "id": "cuqcKfINQt3I",
        "outputId": "578d86b2-0620-4167-e53e-be3851059170"
      },
      "execution_count": null,
      "outputs": [
        {
          "output_type": "display_data",
          "data": {
            "text/plain": [
              "<Figure size 1080x720 with 12 Axes>"
            ],
            "image/png": "[encoded data removed]"
          },
          "metadata": {
            "needs_background": "light"
          }
        }
      ]
    },
    {
      "cell_type": "markdown",
      "metadata": {
        "id": "IXn2oIo5qx-w"
      },
      "source": [
        "#### **Qual a correlação existente entre as variáveis?**\n",
        "\n",
        "Correlação significa que existe uma relação entre duas coisas. No nosso contexto, estamos buscando relação ou semelhança entre duas variáveis.\n",
        "\n",
        "Essa relação pode ser medida, e é função do coeficiente de correlação estabelecer qual a intensidade dela. Para identificar as correlações existentes entre as variáveis de interesse, vamos:\n",
        "\n",
        "* Criar uma matriz de correlação\n",
        "* Gerar um *heatmap* a partir dessa matriz, usando a biblioteca `seaborn`"
      ]
    },
    {
      "cell_type": "code",
      "metadata": {
        "id": "x2ayzBajqxyd",
        "colab": {
          "base_uri": "https://localhost:8080/",
          "height": 600
        },
        "outputId": "8715ca26-f6ad-404a-c6e5-94b615e3bbf8"
      },
      "source": [
        "# criar uma matriz de correlação\n",
        "corr = df_clean[['price', 'minimum_nights', 'number_of_reviews',\n",
        "    'calculated_host_listings_count', 'availability_365']].corr()\n",
        "\n",
        "display(corr)\n",
        "\n",
        "# mostrar a matriz de correlação\n",
        "sns.heatmap(corr, cmap='RdBu', fmt='.2f', square=True, linecolor='white', annot=True); "
      ],
      "execution_count": null,
      "outputs": [
        {
          "output_type": "display_data",
          "data": {
            "text/plain": [
              "                                   price  minimum_nights  number_of_reviews  \\\n",
              "price                           1.000000       -0.026271           0.090397   \n",
              "minimum_nights                 -0.026271        1.000000          -0.014086   \n",
              "number_of_reviews               0.090397       -0.014086           1.000000   \n",
              "calculated_host_listings_count  0.025939       -0.015891           0.043596   \n",
              "availability_365                0.013879       -0.043947          -0.076979   \n",
              "\n",
              "                                calculated_host_listings_count  \\\n",
              "price                                                 0.025939   \n",
              "minimum_nights                                       -0.015891   \n",
              "number_of_reviews                                     0.043596   \n",
              "calculated_host_listings_count                        1.000000   \n",
              "availability_365                                      0.118052   \n",
              "\n",
              "                                availability_365  \n",
              "price                                   0.013879  \n",
              "minimum_nights                         -0.043947  \n",
              "number_of_reviews                      -0.076979  \n",
              "calculated_host_listings_count          0.118052  \n",
              "availability_365                        1.000000  "
            ],
            "text/html": [
              "\n",
              "  <div id=\"df-5ac78617-4a17-4874-bfd3-e55e62a5ef7a\">\n",
              "    <div class=\"colab-df-container\">\n",
              "      <div>\n",
              "<style scoped>\n",
              "    .dataframe tbody tr th:only-of-type {\n",
              "        vertical-align: middle;\n",
              "    }\n",
              "\n",
              "    .dataframe tbody tr th {\n",
              "        vertical-align: top;\n",
              "    }\n",
              "\n",
              "    .dataframe thead th {\n",
              "        text-align: right;\n",
              "    }\n",
              "</style>\n",
              "<table border=\"1\" class=\"dataframe\">\n",
              "  <thead>\n",
              "    <tr style=\"text-align: right;\">\n",
              "      <th></th>\n",
              "      <th>price</th>\n",
              "      <th>minimum_nights</th>\n",
              "      <th>number_of_reviews</th>\n",
              "      <th>calculated_host_listings_count</th>\n",
              "      <th>availability_365</th>\n",
              "    </tr>\n",
              "  </thead>\n",
              "  <tbody>\n",
              "    <tr>\n",
              "      <th>price</th>\n",
              "      <td>1.000000</td>\n",
              "      <td>-0.026271</td>\n",
              "      <td>0.090397</td>\n",
              "      <td>0.025939</td>\n",
              "      <td>0.013879</td>\n",
              "    </tr>\n",
              "    <tr>\n",
              "      <th>minimum_nights</th>\n",
              "      <td>-0.026271</td>\n",
              "      <td>1.000000</td>\n",
              "      <td>-0.014086</td>\n",
              "      <td>-0.015891</td>\n",
              "      <td>-0.043947</td>\n",
              "    </tr>\n",
              "    <tr>\n",
              "      <th>number_of_reviews</th>\n",
              "      <td>0.090397</td>\n",
              "      <td>-0.014086</td>\n",
              "      <td>1.000000</td>\n",
              "      <td>0.043596</td>\n",
              "      <td>-0.076979</td>\n",
              "    </tr>\n",
              "    <tr>\n",
              "      <th>calculated_host_listings_count</th>\n",
              "      <td>0.025939</td>\n",
              "      <td>-0.015891</td>\n",
              "      <td>0.043596</td>\n",
              "      <td>1.000000</td>\n",
              "      <td>0.118052</td>\n",
              "    </tr>\n",
              "    <tr>\n",
              "      <th>availability_365</th>\n",
              "      <td>0.013879</td>\n",
              "      <td>-0.043947</td>\n",
              "      <td>-0.076979</td>\n",
              "      <td>0.118052</td>\n",
              "      <td>1.000000</td>\n",
              "    </tr>\n",
              "  </tbody>\n",
              "</table>\n",
              "</div>\n",
              "      <button class=\"colab-df-convert\" onclick=\"convertToInteractive('df-5ac78617-4a17-4874-bfd3-e55e62a5ef7a')\"\n",
              "              title=\"Convert this dataframe to an interactive table.\"\n",
              "              style=\"display:none;\">\n",
              "        \n",
              "  <svg xmlns=\"http://www.w3.org/2000/svg\" height=\"24px\"viewBox=\"0 0 24 24\"\n",
              "       width=\"24px\">\n",
              "    <path d=\"M0 0h24v24H0V0z\" fill=\"none\"/>\n",
              "    <path d=\"M18.56 5.44l.94 2.06.94-2.06 2.06-.94-2.06-.94-.94-2.06-.94 2.06-2.06.94zm-11 1L8.5 8.5l.94-2.06 2.06-.94-2.06-.94L8.5 2.5l-.94 2.06-2.06.94zm10 10l.94 2.06.94-2.06 2.06-.94-2.06-.94-.94-2.06-.94 2.06-2.06.94z\"/><path d=\"M17.41 7.96l-1.37-1.37c-.4-.4-.92-.59-1.43-.59-.52 0-1.04.2-1.43.59L10.3 9.45l-7.72 7.72c-.78.78-.78 2.05 0 2.83L4 21.41c.39.39.9.59 1.41.59.51 0 1.02-.2 1.41-.59l7.78-7.78 2.81-2.81c.8-.78.8-2.07 0-2.86zM5.41 20L4 18.59l7.72-7.72 1.47 1.35L5.41 20z\"/>\n",
              "  </svg>\n",
              "      </button>\n",
              "      \n",
              "  <style>\n",
              "    .colab-df-container {\n",
              "      display:flex;\n",
              "      flex-wrap:wrap;\n",
              "      gap: 12px;\n",
              "    }\n",
              "\n",
              "    .colab-df-convert {\n",
              "      background-color: #E8F0FE;\n",
              "      border: none;\n",
              "      border-radius: 50%;\n",
              "      cursor: pointer;\n",
              "      display: none;\n",
              "      fill: #1967D2;\n",
              "      height: 32px;\n",
              "      padding: 0 0 0 0;\n",
              "      width: 32px;\n",
              "    }\n",
              "\n",
              "    .colab-df-convert:hover {\n",
              "      background-color: #E2EBFA;\n",
              "      box-shadow: 0px 1px 2px rgba(60, 64, 67, 0.3), 0px 1px 3px 1px rgba(60, 64, 67, 0.15);\n",
              "      fill: #174EA6;\n",
              "    }\n",
              "\n",
              "    [theme=dark] .colab-df-convert {\n",
              "      background-color: #3B4455;\n",
              "      fill: #D2E3FC;\n",
              "    }\n",
              "\n",
              "    [theme=dark] .colab-df-convert:hover {\n",
              "      background-color: #434B5C;\n",
              "      box-shadow: 0px 1px 3px 1px rgba(0, 0, 0, 0.15);\n",
              "      filter: drop-shadow(0px 1px 2px rgba(0, 0, 0, 0.3));\n",
              "      fill: #FFFFFF;\n",
              "    }\n",
              "  </style>\n",
              "\n",
              "      <script>\n",
              "        const buttonEl =\n",
              "          document.querySelector('#df-5ac78617-4a17-4874-bfd3-e55e62a5ef7a button.colab-df-convert');\n",
              "        buttonEl.style.display =\n",
              "          google.colab.kernel.accessAllowed ? 'block' : 'none';\n",
              "\n",
              "        async function convertToInteractive(key) {\n",
              "          const element = document.querySelector('#df-5ac78617-4a17-4874-bfd3-e55e62a5ef7a');\n",
              "          const dataTable =\n",
              "            await google.colab.kernel.invokeFunction('convertToInteractive',\n",
              "                                                     [key], {});\n",
              "          if (!dataTable) return;\n",
              "\n",
              "          const docLinkHtml = 'Like what you see? Visit the ' +\n",
              "            '<a target=\"_blank\" href=https://colab.research.google.com/notebooks/data_table.ipynb>data table notebook</a>'\n",
              "            + ' to learn more about interactive tables.';\n",
              "          element.innerHTML = '';\n",
              "          dataTable['output_type'] = 'display_data';\n",
              "          await google.colab.output.renderOutput(dataTable, element);\n",
              "          const docLink = document.createElement('div');\n",
              "          docLink.innerHTML = docLinkHtml;\n",
              "          element.appendChild(docLink);\n",
              "        }\n",
              "      </script>\n",
              "    </div>\n",
              "  </div>\n",
              "  "
            ]
          },
          "metadata": {}
        },
        {
          "output_type": "display_data",
          "data": {
            "text/plain": [
              "<Figure size 432x288 with 2 Axes>"
            ],
            "image/png": "[encoded data removed]"
          },
          "metadata": {
            "needs_background": "light"
          }
        }
      ]
    },
    {
      "cell_type": "markdown",
      "metadata": {
        "id": "7b6RMWpuHKN-"
      },
      "source": [
        "#### **Qual o tipo de imóvel mais alugado no Airbnb?**\n",
        "O tipo de imóvel mais alugado no Airbnb foi o Entire home/apt (Casa/apto), com 5518 locações, que corresponde a quase 64% das locações no período. E o segundo, Private room (quarto privativo), com 2855 (33%) dos aluguéis."
      ]
    },
    {
      "cell_type": "code",
      "metadata": {
        "id": "ueLPNWvPHgfB",
        "colab": {
          "base_uri": "https://localhost:8080/"
        },
        "outputId": "d7a3b740-07ee-40ef-f302-faa9523e0f30"
      },
      "source": [
        "# mostrar a quantidade de cada tipo de imóvel disponível\n",
        "df.room_type.value_counts()"
      ],
      "execution_count": null,
      "outputs": [
        {
          "output_type": "execute_result",
          "data": {
            "text/plain": [
              "Entire home/apt    5518\n",
              "Private room       2855\n",
              "Shared room         139\n",
              "Hotel room           62\n",
              "Name: room_type, dtype: int64"
            ]
          },
          "metadata": {},
          "execution_count": 44
        }
      ]
    },
    {
      "cell_type": "code",
      "metadata": {
        "id": "EvwoO-XAHhIm",
        "colab": {
          "base_uri": "https://localhost:8080/"
        },
        "outputId": "3ae6bf97-955a-471d-98c8-4ff10b79bc1c"
      },
      "source": [
        "# mostrar a porcentagem de cada tipo de imóvel disponível\n",
        "df.room_type.value_counts() / df.shape[0]"
      ],
      "execution_count": null,
      "outputs": [
        {
          "output_type": "execute_result",
          "data": {
            "text/plain": [
              "Entire home/apt    0.643574\n",
              "Private room       0.332983\n",
              "Shared room        0.016212\n",
              "Hotel room         0.007231\n",
              "Name: room_type, dtype: float64"
            ]
          },
          "metadata": {},
          "execution_count": 45
        }
      ]
    },
    {
      "cell_type": "markdown",
      "metadata": {
        "id": "MFa5NbnLJMcd"
      },
      "source": [
        "#### **Qual a localidade mais cara do dataset?**\n",
        "\n",
        "Uma maneira de se verificar uma variável em função da outra é usando `groupby()`. No caso, queremos comparar os bairros (*neighbourhoods*) a partir do preço de locação. Vemos que a localidade mais cara foi Lo Barnechea e, em segundo, Santiago.\n"
      ]
    },
    {
      "cell_type": "code",
      "metadata": {
        "id": "MD_xa143JZpi",
        "colab": {
          "base_uri": "https://localhost:8080/"
        },
        "outputId": "ffda0848-571f-4718-e6b3-a5c4db328508"
      },
      "source": [
        "# ver preços por bairros, na média\n",
        "df_clean.groupby(['neighbourhood']).price.mean().sort_values(ascending=False)[:10]"
      ],
      "execution_count": null,
      "outputs": [
        {
          "output_type": "execute_result",
          "data": {
            "text/plain": [
              "neighbourhood\n",
              "Lo Barnechea        20539.933333\n",
              "Santiago            20423.874317\n",
              "Vitacura            20383.000000\n",
              "Las Condes          20376.562189\n",
              "Estación Central    20237.113208\n",
              "Providencia         19567.000000\n",
              "Lo Prado            19500.000000\n",
              "Independencia       19487.233333\n",
              "Recoleta            19417.109091\n",
              "Pudahuel            19387.562500\n",
              "Name: price, dtype: float64"
            ]
          },
          "metadata": {},
          "execution_count": 48
        }
      ]
    },
    {
      "cell_type": "markdown",
      "source": [
        "Como são fornecidas as Latitudes e Longitudes para os imóveis, é possível plotar cada ponto. Para isso, considera-se `x=longitude` e `y=latitude`."
      ],
      "metadata": {
        "id": "GU8GEFb1qDK0"
      }
    },
    {
      "cell_type": "code",
      "metadata": {
        "id": "UxVJqJ_3W59I",
        "colab": {
          "base_uri": "https://localhost:8080/",
          "height": 469
        },
        "outputId": "a4f894df-f976-4d7b-e302-57c59b58a0b4"
      },
      "source": [
        "# plotar os imóveis pela latitude-longitude\n",
        "df_clean.plot(kind=\"scatter\", x='longitude', y='latitude', alpha=0.4, c=df_clean['price'], s=8,\n",
        "              cmap=plt.get_cmap('jet'), figsize=(12,8));"
      ],
      "execution_count": null,
      "outputs": [
        {
          "output_type": "display_data",
          "data": {
            "text/plain": [
              "<Figure size 864x576 with 2 Axes>"
            ],
            "image/png": "[encoded data removed]"
          },
          "metadata": {
            "needs_background": "light"
          }
        }
      ]
    },
    {
      "cell_type": "markdown",
      "metadata": {
        "id": "vTneAMRUYvr1"
      },
      "source": [
        "#### **Qual é a média do mínimo de noites para aluguel (minimum_nights)?**"
      ]
    },
    {
      "cell_type": "code",
      "metadata": {
        "id": "_VzNhrEgY82N",
        "colab": {
          "base_uri": "https://localhost:8080/"
        },
        "outputId": "e6a6e44c-6285-492f-cfbc-931f3e302731"
      },
      "source": [
        "# ver a média da coluna `minimum_nights`\n",
        "df.minimum_nights.mean()"
      ],
      "execution_count": null,
      "outputs": [
        {
          "output_type": "execute_result",
          "data": {
            "text/plain": [
              "7.516561698157219"
            ]
          },
          "metadata": {},
          "execution_count": 61
        }
      ]
    },
    {
      "cell_type": "markdown",
      "source": [
        "Em média, o mínimo de noites para aluguel foi de 7."
      ],
      "metadata": {
        "id": "znR_Ilt9uEQ7"
      }
    },
    {
      "cell_type": "markdown",
      "metadata": {
        "id": "GkvAg623RjoR"
      },
      "source": [
        "## Conclusões\n",
        "\n",
        "Foi feita apenas uma análise superficial na base de dados do Airbnb, porém já se percebeu que existem *outliers* em algumas das variáveis, o que pode distorcer as informações estatísticas de alguns atributos. Como por exemplo a média do valor dos aluguéis.\n",
        "Pudemos identificar as localidades com valor mais caro e média mínima de noites e tipo de imóvel mais alugado pelo Airbnb.\n",
        "Por fim, lembramos que este *dataset* é uma versão resumida, útil para realizarmos uma abordagem inicial. Assim, recomendamos que seja usado, em uma próxima análise exploratória mais profunda, o conjunto de dados completos, com um número maior de atributos disponíveis."
      ]
    },
    {
      "cell_type": "markdown",
      "metadata": {
        "id": "rbZ3Hsy9Ypw8"
      },
      "source": [
        "https://drive.google.com/file/d/1Es8Pzq-TVOegM9IBpzPmOgHaXYCsvgGO/view?usp=sharing"
      ]
    }
  ]
}